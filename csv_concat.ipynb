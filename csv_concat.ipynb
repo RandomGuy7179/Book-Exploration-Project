{
 "cells": [
  {
   "cell_type": "code",
   "execution_count": 1,
   "id": "db3ae306",
   "metadata": {},
   "outputs": [],
   "source": [
    "import os\n",
    "import pandas as pd"
   ]
  },
  {
   "cell_type": "markdown",
   "id": "caad4d64",
   "metadata": {},
   "source": [
    "# Goal\n",
    "\n",
    "Of the 23 csv files in the folder archive-3, that contains ~100k rows each, I want to concat all csv files that have a select number of columns in common. I will use the concated dataset to explore the data in SQL."
   ]
  },
  {
   "cell_type": "code",
   "execution_count": 2,
   "id": "5db7ccfa",
   "metadata": {},
   "outputs": [],
   "source": [
    "#archive-3 is a folder containing 23 csv files with book data from GoodReads\n",
    "#data is from https://www.kaggle.com/datasets/bahramjannesarr/goodreads-book-datasets-10m\n",
    "folder_path = 'archive-3'\n",
    "dfs = [] # create an empty list to store dataframes\n",
    "\n",
    "for filename in os.listdir(folder_path):\n",
    "    if filename.endswith('.csv'):\n",
    "        csv_path = os.path.join(folder_path, filename)\n",
    "        df = pd.read_csv(csv_path)\n",
    "        #columns that I want from the csv files.\n",
    "        columns = ['Name', 'pagesNumber', 'Publisher','PublishYear','Language','Authors','CountsOfReview','Rating','ISBN']\n",
    "        comp = len(columns)\n",
    "        count = 0\n",
    "        for column in columns:\n",
    "            if column in df.columns:\n",
    "                count += 1\n",
    "        if count == comp:\n",
    "            final = df[columns]\n",
    "            dfs.append(final)\n",
    "\n",
    "# combine all dataframes into a single dataframe\n",
    "combined_df = pd.concat(dfs, ignore_index=True)"
   ]
  },
  {
   "cell_type": "code",
   "execution_count": 3,
   "id": "acd5c491",
   "metadata": {},
   "outputs": [
    {
     "data": {
      "text/plain": [
       "(835078, 9)"
      ]
     },
     "execution_count": 3,
     "metadata": {},
     "output_type": "execute_result"
    }
   ],
   "source": [
    "combined_df.shape"
   ]
  },
  {
   "cell_type": "markdown",
   "id": "fbad7455",
   "metadata": {},
   "source": [
    "comibed.csv is the dataset that will be used in SQL exploration. It contains over 800k rows of data on books from Goodreads."
   ]
  },
  {
   "cell_type": "code",
   "execution_count": 15,
   "id": "7baee7aa",
   "metadata": {},
   "outputs": [],
   "source": [
    "combined_df.to_csv('combined.csv', index=False)"
   ]
  }
 ],
 "metadata": {
  "kernelspec": {
   "display_name": "Python 3 (ipykernel)",
   "language": "python",
   "name": "python3"
  },
  "language_info": {
   "codemirror_mode": {
    "name": "ipython",
    "version": 3
   },
   "file_extension": ".py",
   "mimetype": "text/x-python",
   "name": "python",
   "nbconvert_exporter": "python",
   "pygments_lexer": "ipython3",
   "version": "3.10.9"
  }
 },
 "nbformat": 4,
 "nbformat_minor": 5
}
